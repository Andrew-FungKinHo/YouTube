{
 "cells": [
  {
   "cell_type": "markdown",
   "metadata": {},
   "source": [
    "## Basic Operations in Pandas\n",
    "\n",
    "- data filtering\n",
    "- data grouping\n",
    "- quick plotting\n",
    "- math operations (mean, min, median)\n"
   ]
  },
  {
   "cell_type": "code",
   "execution_count": 13,
   "metadata": {},
   "outputs": [
    {
     "data": {
      "text/html": [
       "<div>\n",
       "<style scoped>\n",
       "    .dataframe tbody tr th:only-of-type {\n",
       "        vertical-align: middle;\n",
       "    }\n",
       "\n",
       "    .dataframe tbody tr th {\n",
       "        vertical-align: top;\n",
       "    }\n",
       "\n",
       "    .dataframe thead th {\n",
       "        text-align: right;\n",
       "    }\n",
       "</style>\n",
       "<table border=\"1\" class=\"dataframe\">\n",
       "  <thead>\n",
       "    <tr style=\"text-align: right;\">\n",
       "      <th></th>\n",
       "      <th>BATHRM</th>\n",
       "      <th>HEAT</th>\n",
       "      <th>AC</th>\n",
       "      <th>NUM_UNITS</th>\n",
       "      <th>ROOMS</th>\n",
       "      <th>BEDRM</th>\n",
       "      <th>AYB</th>\n",
       "      <th>YR_RMDL</th>\n",
       "      <th>EYB</th>\n",
       "      <th>STORIES</th>\n",
       "      <th>...</th>\n",
       "      <th>KITCHENS</th>\n",
       "      <th>FIREPLACES</th>\n",
       "      <th>USECODE</th>\n",
       "      <th>LANDAREA</th>\n",
       "      <th>SOURCE</th>\n",
       "      <th>FULLADDRESS</th>\n",
       "      <th>ZIPCODE</th>\n",
       "      <th>LATITUDE</th>\n",
       "      <th>LONGITUDE</th>\n",
       "      <th>ASSESSMENT_NBHD</th>\n",
       "    </tr>\n",
       "  </thead>\n",
       "  <tbody>\n",
       "    <tr>\n",
       "      <th>0</th>\n",
       "      <td>1</td>\n",
       "      <td>Forced Air</td>\n",
       "      <td>Y</td>\n",
       "      <td>0.0</td>\n",
       "      <td>4</td>\n",
       "      <td>1</td>\n",
       "      <td>1900.0</td>\n",
       "      <td>2015.0</td>\n",
       "      <td>1967</td>\n",
       "      <td>2.00</td>\n",
       "      <td>...</td>\n",
       "      <td>1.0</td>\n",
       "      <td>1</td>\n",
       "      <td>12</td>\n",
       "      <td>1518</td>\n",
       "      <td>Residential</td>\n",
       "      <td>3208 REAR VOLTA PLACE NW</td>\n",
       "      <td>20007</td>\n",
       "      <td>38.909370</td>\n",
       "      <td>-77.064920</td>\n",
       "      <td>Georgetown</td>\n",
       "    </tr>\n",
       "    <tr>\n",
       "      <th>1</th>\n",
       "      <td>4</td>\n",
       "      <td>Forced Air</td>\n",
       "      <td>Y</td>\n",
       "      <td>0.0</td>\n",
       "      <td>6</td>\n",
       "      <td>3</td>\n",
       "      <td>1922.0</td>\n",
       "      <td>2014.0</td>\n",
       "      <td>1980</td>\n",
       "      <td>2.00</td>\n",
       "      <td>...</td>\n",
       "      <td>1.0</td>\n",
       "      <td>1</td>\n",
       "      <td>11</td>\n",
       "      <td>1584</td>\n",
       "      <td>Residential</td>\n",
       "      <td>113 WEBSTER STREET NW</td>\n",
       "      <td>20011</td>\n",
       "      <td>38.944555</td>\n",
       "      <td>-77.013213</td>\n",
       "      <td>Petworth</td>\n",
       "    </tr>\n",
       "    <tr>\n",
       "      <th>2</th>\n",
       "      <td>4</td>\n",
       "      <td>Forced Air</td>\n",
       "      <td>Y</td>\n",
       "      <td>0.0</td>\n",
       "      <td>8</td>\n",
       "      <td>4</td>\n",
       "      <td>1918.0</td>\n",
       "      <td>2018.0</td>\n",
       "      <td>1984</td>\n",
       "      <td>2.50</td>\n",
       "      <td>...</td>\n",
       "      <td>1.0</td>\n",
       "      <td>0</td>\n",
       "      <td>12</td>\n",
       "      <td>5001</td>\n",
       "      <td>Residential</td>\n",
       "      <td>1250 HAMLIN STREET NE</td>\n",
       "      <td>20017</td>\n",
       "      <td>38.927873</td>\n",
       "      <td>-76.989294</td>\n",
       "      <td>Brookland</td>\n",
       "    </tr>\n",
       "    <tr>\n",
       "      <th>3</th>\n",
       "      <td>5</td>\n",
       "      <td>Forced Air</td>\n",
       "      <td>Y</td>\n",
       "      <td>0.0</td>\n",
       "      <td>8</td>\n",
       "      <td>4</td>\n",
       "      <td>1925.0</td>\n",
       "      <td>2018.0</td>\n",
       "      <td>1967</td>\n",
       "      <td>1.75</td>\n",
       "      <td>...</td>\n",
       "      <td>1.0</td>\n",
       "      <td>1</td>\n",
       "      <td>12</td>\n",
       "      <td>7500</td>\n",
       "      <td>Residential</td>\n",
       "      <td>1307 GIRARD STREET NE</td>\n",
       "      <td>20017</td>\n",
       "      <td>38.926475</td>\n",
       "      <td>-76.987470</td>\n",
       "      <td>Brookland</td>\n",
       "    </tr>\n",
       "    <tr>\n",
       "      <th>4</th>\n",
       "      <td>2</td>\n",
       "      <td>Hot Water Rad</td>\n",
       "      <td>N</td>\n",
       "      <td>0.0</td>\n",
       "      <td>8</td>\n",
       "      <td>4</td>\n",
       "      <td>1928.0</td>\n",
       "      <td>-1.0</td>\n",
       "      <td>1960</td>\n",
       "      <td>2.00</td>\n",
       "      <td>...</td>\n",
       "      <td>1.0</td>\n",
       "      <td>0</td>\n",
       "      <td>11</td>\n",
       "      <td>1368</td>\n",
       "      <td>Residential</td>\n",
       "      <td>3735 BENTON STREET NW</td>\n",
       "      <td>20007</td>\n",
       "      <td>38.920862</td>\n",
       "      <td>-77.075030</td>\n",
       "      <td>Glover Park</td>\n",
       "    </tr>\n",
       "  </tbody>\n",
       "</table>\n",
       "<p>5 rows × 32 columns</p>\n",
       "</div>"
      ],
      "text/plain": [
       "   BATHRM           HEAT AC  NUM_UNITS  ROOMS  BEDRM     AYB  YR_RMDL   EYB  \\\n",
       "0       1     Forced Air  Y        0.0      4      1  1900.0   2015.0  1967   \n",
       "1       4     Forced Air  Y        0.0      6      3  1922.0   2014.0  1980   \n",
       "2       4     Forced Air  Y        0.0      8      4  1918.0   2018.0  1984   \n",
       "3       5     Forced Air  Y        0.0      8      4  1925.0   2018.0  1967   \n",
       "4       2  Hot Water Rad  N        0.0      8      4  1928.0     -1.0  1960   \n",
       "\n",
       "   STORIES  ... KITCHENS  FIREPLACES USECODE  LANDAREA       SOURCE  \\\n",
       "0     2.00  ...      1.0           1      12      1518  Residential   \n",
       "1     2.00  ...      1.0           1      11      1584  Residential   \n",
       "2     2.50  ...      1.0           0      12      5001  Residential   \n",
       "3     1.75  ...      1.0           1      12      7500  Residential   \n",
       "4     2.00  ...      1.0           0      11      1368  Residential   \n",
       "\n",
       "                FULLADDRESS ZIPCODE   LATITUDE  LONGITUDE ASSESSMENT_NBHD  \n",
       "0  3208 REAR VOLTA PLACE NW   20007  38.909370 -77.064920      Georgetown  \n",
       "1     113 WEBSTER STREET NW   20011  38.944555 -77.013213        Petworth  \n",
       "2     1250 HAMLIN STREET NE   20017  38.927873 -76.989294       Brookland  \n",
       "3     1307 GIRARD STREET NE   20017  38.926475 -76.987470       Brookland  \n",
       "4     3735 BENTON STREET NW   20007  38.920862 -77.075030     Glover Park  \n",
       "\n",
       "[5 rows x 32 columns]"
      ]
     },
     "execution_count": 13,
     "metadata": {},
     "output_type": "execute_result"
    }
   ],
   "source": [
    "# import data (DC_properties.csv)\n",
    "\n",
    "import pandas as pd\n",
    "df = pd.read_csv('DC_properties.csv')\n",
    "\n",
    "df.head()"
   ]
  },
  {
   "cell_type": "markdown",
   "metadata": {},
   "source": [
    "#### a) How many properties were sold in June of 2015? "
   ]
  },
  {
   "cell_type": "code",
   "execution_count": 22,
   "metadata": {},
   "outputs": [
    {
     "name": "stdout",
     "output_type": "stream",
     "text": [
      "754\n"
     ]
    }
   ],
   "source": [
    "# set filters for the month and year\n",
    "df['SALEDATE'] = pd.to_datetime(df['SALEDATE'])\n",
    "\n",
    "month_filter = df['SALEDATE'].map(lambda x:x.month) == 6\n",
    "year_filter = df['SALEDATE'].map(lambda x:x.year) == 2015\n",
    "\n",
    "requiredMonth = df[month_filter & year_filter]\n",
    "print(len(requiredMonth))"
   ]
  },
  {
   "cell_type": "markdown",
   "metadata": {},
   "source": [
    "#### b) What is the most common type of heating mechanism, and how many properties have it?"
   ]
  },
  {
   "cell_type": "code",
   "execution_count": 23,
   "metadata": {},
   "outputs": [
    {
     "data": {
      "text/plain": [
       "count          97780\n",
       "unique            14\n",
       "top       Forced Air\n",
       "freq           39238\n",
       "Name: HEAT, dtype: object"
      ]
     },
     "execution_count": 23,
     "metadata": {},
     "output_type": "execute_result"
    }
   ],
   "source": [
    "# short cut method\n",
    "df['HEAT'].describe()"
   ]
  },
  {
   "cell_type": "markdown",
   "metadata": {},
   "source": [
    "#### c) Based on mean price, which neighborhood is the most expensive? Use the column ASSESSMENT_NBHD for neighborhood."
   ]
  },
  {
   "cell_type": "code",
   "execution_count": 28,
   "metadata": {},
   "outputs": [
    {
     "data": {
      "text/plain": [
       "ASSESSMENT_NBHD\n",
       "Massachusetts Avenue Heights   2631421.109091\n",
       "Berkley                        1475448.698312\n",
       "Spring Valley                  1437519.540984\n",
       "Kent                           1303142.609756\n",
       "Georgetown                     1205854.934455\n",
       "Name: PRICE, dtype: float64"
      ]
     },
     "execution_count": 28,
     "metadata": {},
     "output_type": "execute_result"
    }
   ],
   "source": [
    "# groupby() neighbourhood\n",
    "pd.set_option('float_format', '{:f}'.format)\n",
    "df.groupby('ASSESSMENT_NBHD')['PRICE'].mean().sort_values(ascending=False).head()"
   ]
  },
  {
   "cell_type": "markdown",
   "metadata": {},
   "source": [
    "#### d) Is the mean price of the most expensive neighborhood statistically different from the mean price of the second most expensive neighborhood? "
   ]
  },
  {
   "cell_type": "code",
   "execution_count": 29,
   "metadata": {},
   "outputs": [
    {
     "name": "stdout",
     "output_type": "stream",
     "text": [
      "0.7834717751291441\n"
     ]
    }
   ],
   "source": [
    "MAH_mean = df.groupby('ASSESSMENT_NBHD')['PRICE'].mean()['Massachusetts Avenue Heights']\n",
    "Berkley_mean = df.groupby('ASSESSMENT_NBHD')['PRICE'].mean()['Berkley']\n",
    "\n",
    "print((MAH_mean - Berkley_mean) / Berkley_mean)"
   ]
  },
  {
   "cell_type": "code",
   "execution_count": 30,
   "metadata": {},
   "outputs": [
    {
     "data": {
      "text/plain": [
       "<AxesSubplot:xlabel='ASSESSMENT_NBHD'>"
      ]
     },
     "execution_count": 30,
     "metadata": {},
     "output_type": "execute_result"
    },
    {
     "data": {
      "image/png": "[encoded data removed]",
      "text/plain": [
       "<Figure size 1008x432 with 1 Axes>"
      ]
     },
     "metadata": {
      "needs_background": "light"
     },
     "output_type": "display_data"
    }
   ],
   "source": [
    "# quickly visualize neighbourhood mean price to check results\n",
    "df.groupby('ASSESSMENT_NBHD')['PRICE'].mean().plot(figsize=(14,6))"
   ]
  }
 ],
 "metadata": {
  "kernelspec": {
   "display_name": "Python 3",
   "language": "python",
   "name": "python3"
  },
  "language_info": {
   "codemirror_mode": {
    "name": "ipython",
    "version": 3
   },
   "file_extension": ".py",
   "mimetype": "text/x-python",
   "name": "python",
   "nbconvert_exporter": "python",
   "pygments_lexer": "ipython3",
   "version": "3.8.5"
  }
 },
 "nbformat": 4,
 "nbformat_minor": 4
}
